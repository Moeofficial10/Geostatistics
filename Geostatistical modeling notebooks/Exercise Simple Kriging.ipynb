{
 "cells": [
  {
   "cell_type": "markdown",
   "metadata": {},
   "source": [
    "# Short overview: Simple Kriging\n",
    "\n",
    "In our lecture, we disussed the basics of Simple Kriging. In this exercise, we will implement the equations for a simple three-point problem."
   ]
  },
  {
   "cell_type": "code",
   "execution_count": 1,
   "metadata": {},
   "outputs": [],
   "source": [
    "import numpy as np\n",
    "import matplotlib.pyplot as plt\n",
    "%matplotlib inline"
   ]
  },
  {
   "cell_type": "markdown",
   "metadata": {},
   "source": [
    "## Step 1: Define covariance function\n",
    "\n",
    "Recall that the essential difference between multilinear regression and kriging is the requirement for a covariance function. So far, we did not discuss this in detail in the lecture - but the basic idea is to define a function that describes the covariance between two variables as a function of distance.\n",
    "\n",
    "One typical example that we will use here is the exponential covariance function:\n",
    "\n",
    "$$C(h) = \\exp\\left(- \\frac{|h|}{a} \\right)$$\n",
    "\n",
    "where $a$ is called the _range_ of the covariance function - we will talk about its meaning in detail in the class. $h$ is the distance between a given pair of points.\n",
    "\n",
    "<div class='alert alert-info'>\n",
    "    \n",
    "**Your task**: As a first step, complete the function below to implement this equation with $a$ defaulting to $a = 1$:\n",
    "\n",
    "</div>"
   ]
  },
  {
   "cell_type": "code",
   "execution_count": 2,
   "metadata": {},
   "outputs": [],
   "source": [
    "def cov(h, a=1):\n",
    "    # YOUR CODE HERE\n",
    "    c=np.exp((-(abs(h))/a))\n",
    "    return c"
   ]
  },
  {
   "cell_type": "markdown",
   "metadata": {},
   "source": [
    "<div class='alert alert-info'>\n",
    "    \n",
    "**Your task**: Create now a plot to visualize this function for a range of $h$-values between 0-3:\n",
    "</div>\n"
   ]
  },
  {
   "cell_type": "code",
   "execution_count": 3,
   "metadata": {},
   "outputs": [
    {
     "data": {
      "image/png": "[encoded data removed]",
      "text/plain": [
       "<Figure size 432x288 with 1 Axes>"
      ]
     },
     "metadata": {
      "needs_background": "light"
     },
     "output_type": "display_data"
    }
   ],
   "source": [
    "# YOUR CODE HERE\n",
    "h= np.linspace(0,3,25)\n",
    "x = cov(h)\n",
    "plt.plot(h,x, marker='o');"
   ]
  },
  {
   "cell_type": "markdown",
   "metadata": {},
   "source": [
    "## Step 2: Implement Simple Kriging for three points\n",
    "\n",
    "Now that we have this function, we can use it to implement our first spatial estimation using Simple Kriging! We will first start with a simple case: consider we have a 1-D system with three points with known values $x_1, x_2, x_3$ and we would like to estimate the value at a point $x_0$.\n",
    "\n",
    "Here are the steps you need to perform:\n",
    "\n",
    "1. Create the covariance matrices C (covariances between all input locations) and c (covariances between input locations and unknown location):\n",
    "\n",
    "$$ C = \\begin{pmatrix}cov(0) & cov(h_{12}) & cov(h_{13})\\\\\\ cov(h_{21}) & cov(0) & cov(h_{23}) \\\\\\ cov(h_{31}) & cov(h_{32}) & cov(0)\\end{pmatrix}$$\n",
    "\n",
    "$$ c = \\begin{pmatrix}cov(h_{01}) \\\\\\ cov(h_{02}) \\\\\\ cov(h_{03}) \\end{pmatrix}$$\n",
    "\n",
    "2. Solve the SAE to retrieve the weights:\n",
    "\n",
    "$$C \\omega = c$$\n",
    "\n",
    "3. Calculate the estimate at unknown position using the following equation (SK estimator):\n",
    "\n",
    "$$ Z^*_{\\omega_{SK}}(x_0)= \\mu+\\sum_{i=1}^{n}\\omega_i (Z(x_i) - \\mu)$$\n",
    "\n",
    "<div class='alert alert-info'>\n",
    "    \n",
    "**Your task**: Complete the function below to perform Simple Kriging for three given values:\n",
    "</div>"
   ]
  },
  {
   "cell_type": "code",
   "execution_count": 4,
   "metadata": {},
   "outputs": [],
   "source": [
    "def simple_kriging(x_pos, pos, vals, cf):\n",
    "    \"\"\"Perform simple kriging estimation\n",
    "    \n",
    "    **Arguments**:\n",
    "        x_pos: array of positions of three known values\n",
    "        pos: x-position of unknown value\n",
    "        vals: array of measurements (according to positions)\n",
    "        cov: covariance function (Note: you can pass a function as an argument!)\n",
    "    \"\"\"\n",
    "    # YOUR CODE HERE\n",
    "    C=np.ones((3,3))\n",
    "    C[0,1]=cov(x_pos[0]-x_pos[1])\n",
    "    C[0,2]=cov(x_pos[0]-x_pos[2])\n",
    "    C[1,0]=cov(x_pos[1]-x_pos[0])\n",
    "    C[1,2]=cov(x_pos[1]-x_pos[2])\n",
    "    C[2,0]=cov(x_pos[2]-x_pos[0])\n",
    "    C[2,1]=cov(x_pos[2]-x_pos[1])\n",
    "    \n",
    "    c = np.array([cov(x_pos[0]-pos), cov(x_pos[1]-pos), cov(x_pos[2]-pos)])\n",
    "    \n",
    "    w = np.linalg.solve(C,c)\n",
    "    \n",
    "    variance = cov(0)-np.sum(w*c)\n",
    "                               \n",
    "    Z = np.mean(vals) + np.sum(w*(vals-np.mean(vals)))\n",
    "                               \n",
    "    return Z, variance"
   ]
  },
  {
   "cell_type": "markdown",
   "metadata": {},
   "source": [
    "\n",
    "<div class='alert alert-info'>\n",
    "    \n",
    "**Your task**: As a next step, try this implementation with several points:\n",
    "</div>"
   ]
  },
  {
   "cell_type": "code",
   "execution_count": 5,
   "metadata": {},
   "outputs": [
    {
     "name": "stdout",
     "output_type": "stream",
     "text": [
      "-0.0405682403308395\n"
     ]
    }
   ],
   "source": [
    "# Here one example of how the input could look like\n",
    "x_pos = np.array([2,4,5.])\n",
    "vals = np.array([0.2,-0.4,0.3])\n",
    "x_unknown = 4.5\n",
    "val = simple_kriging(x_pos, x_unknown, vals, cov)[0]\n",
    "print(val)"
   ]
  },
  {
   "cell_type": "markdown",
   "metadata": {},
   "source": [
    "\n",
    "<div class='alert alert-info'>\n",
    "    \n",
    "**Your task**: Create a plot to visualize the results:\n",
    "</div>"
   ]
  },
  {
   "cell_type": "code",
   "execution_count": 6,
   "metadata": {},
   "outputs": [
    {
     "data": {
      "image/png": "[encoded data removed]",
      "text/plain": [
       "<Figure size 432x288 with 1 Axes>"
      ]
     },
     "metadata": {
      "needs_background": "light"
     },
     "output_type": "display_data"
    }
   ],
   "source": [
    "# YOUR CODE HERE\n",
    "plt.plot(x_pos, vals, 'r-o', label='defined points')\n",
    "plt.plot(x_unknown, val, 'bo', label='approx. value')\n",
    "plt.axhline(np.mean(vals), color='k', alpha=0.5)\n",
    "# plt.axvline(x_unknown, color='b')\n",
    "plt.xlabel('x-positions', labelpad=10, fontsize=13)\n",
    "plt.ylabel('x-values', labelpad=10, fontsize=13)\n",
    "plt.legend(loc='lower left');"
   ]
  },
  {
   "cell_type": "markdown",
   "metadata": {},
   "source": [
    "## Step 3: Variance of Simple Kriging\n",
    "\n",
    "The variance of Simple Kriging for an estiamted location is defined as:\n",
    "\n",
    "$$\\sigma^2_{SK} = C(0) - \\sum_{i=1}^{n} \\omega^{SK}_i C(x_i-x_0)$$\n",
    "\n",
    "with $C(0)$ being the variance of the dataset (which in this case are the values at the three known positions).\n",
    "    \n",
    "\n",
    "<div class='alert alert-info'>\n",
    "    \n",
    "**Your task**: Expand your Simple Kriging function from above to also calculate the simple kriging variance in addition to the estimate.\n",
    "</div>"
   ]
  },
  {
   "cell_type": "code",
   "execution_count": 7,
   "metadata": {},
   "outputs": [
    {
     "name": "stdout",
     "output_type": "stream",
     "text": [
      "0.4621171572600098\n"
     ]
    }
   ],
   "source": [
    "# TEST THE FUNCTION HERE (WITH ESTIMATE AND VARIANCE)\n",
    "# YOUR CODE HERE\n",
    "val = simple_kriging(x_pos, x_unknown, vals, cov)[1]\n",
    "print(val)"
   ]
  },
  {
   "cell_type": "markdown",
   "metadata": {},
   "source": [
    "## Step 4: Expand to arbitrary number of input points\n",
    "\n",
    "In real life we will often use datasets that contain more than three data points. So we need to expand the Kriging function in a way that works with an arbitrary number of known input points. \n",
    "\n",
    "Here some important things to consider when setting this up:\n",
    "* How big will your matrices and vectors be?\n",
    "* How can you fill them with the correct covariances (Hint: Start with a for-loop implementation)\n",
    "* What happens if no input points are given? Think about the definition of SK.\n",
    "\n",
    "<div class='alert alert-info'>\n",
    "    \n",
    "**Your task**: Finsih the following function to perform Simple Kriging with an arbitrary number of input points. Test your implmentation.\n",
    "</div>"
   ]
  },
  {
   "cell_type": "code",
   "execution_count": 8,
   "metadata": {},
   "outputs": [],
   "source": [
    "# Expansion to arbitrary number of points\n",
    "# YOUR CODE HERE\n",
    "def simple_kriging_arbitrary(x_pos, pos, vals, cov):\n",
    "    \n",
    "# x_pos: the array of known input points\n",
    "# pos: the x-position of the unknown value\n",
    "# vals: array of measurements (according to positions)\n",
    "# cov: covariance function\n",
    "\n",
    "    n = len(x_pos)\n",
    "    C = np.ones((n,n))\n",
    "    c = np.ones(n)\n",
    "    for i in range(n):\n",
    "        c[i] = cov(x_pos[i]-pos)\n",
    "        j = 0\n",
    "        while j < n:\n",
    "            C[i,j] = cov(x_pos[i]-x_pos[j])\n",
    "            j += 1\n",
    "    \n",
    "    w = np.linalg.solve(C,c)\n",
    "    \n",
    "    variance = cov(0)-np.sum(w*c)\n",
    "                               \n",
    "    Z = np.mean(vals) + np.sum(w*(vals-np.mean(vals)))\n",
    "                               \n",
    "    return Z, variance\n",
    "    "
   ]
  },
  {
   "cell_type": "code",
   "execution_count": null,
   "metadata": {},
   "outputs": [],
   "source": []
  },
  {
   "cell_type": "code",
   "execution_count": null,
   "metadata": {},
   "outputs": [],
   "source": []
  },
  {
   "cell_type": "code",
   "execution_count": null,
   "metadata": {},
   "outputs": [],
   "source": []
  }
 ],
 "metadata": {
  "kernelspec": {
   "display_name": "Python 3",
   "language": "python",
   "name": "python3"
  },
  "language_info": {
   "codemirror_mode": {
    "name": "ipython",
    "version": 3
   },
   "file_extension": ".py",
   "mimetype": "text/x-python",
   "name": "python",
   "nbconvert_exporter": "python",
   "pygments_lexer": "ipython3",
   "version": "3.7.6"
  }
 },
 "nbformat": 4,
 "nbformat_minor": 2
}
