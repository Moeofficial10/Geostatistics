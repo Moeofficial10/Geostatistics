{
 "cells": [
  {
   "cell_type": "markdown",
   "metadata": {},
   "source": [
    "### A real dataset\n",
    "\n",
    "Today we will take a look at a well log dataset together. There is a nice open source dataset of SECARB Cranfield Well Logs in Franklin, Mississippi (https://edx.netl.doe.gov/dataset/secarb-cranfield-well-logs). We refined the data silghtly to make it easier to load them into the notebook. You should have downloaded the `borehole.txt` file together with this notebook. "
   ]
  },
  {
   "cell_type": "code",
   "execution_count": null,
   "metadata": {},
   "outputs": [],
   "source": [
    "# the usual imports\n",
    "import numpy as np\n",
    "import pandas as pd\n",
    "import matplotlib.pyplot as plt\n",
    "%matplotlib inline"
   ]
  },
  {
   "cell_type": "code",
   "execution_count": null,
   "metadata": {},
   "outputs": [],
   "source": [
    "# importing the dataset as a pandas dataframe\n",
    "# Note that the file 'borehole.txt' has to be located in the same folder as th notebook\n",
    "# or alternatively the full path has to be defined\n",
    "data = pd.read_csv('borehole.txt', delim_whitespace=True)"
   ]
  },
  {
   "cell_type": "code",
   "execution_count": null,
   "metadata": {
    "scrolled": true
   },
   "outputs": [],
   "source": [
    "data.head()"
   ]
  },
  {
   "cell_type": "markdown",
   "metadata": {},
   "source": [
    "Here some information on the different columns and different signals. We are no well logging experts and obviously the main focus of this exercise is data analysis, but it is always a good idea to have a rough idea of what you are looking at:\n",
    "\n",
    "MNEM | .UNIT  | DESCRIPTION \n",
    ":---: | :---: |:--:\n",
    "DEPT |.F | DEPTH (BOREHOLE)\n",
    "CTEM |.DEGF | Cartridge Temperature\n",
    "DCAL |.IN | Differential Caliper \n",
    "DT   |.US/F | Delta-T\n",
    "GR_EDTC|.GAPI | Gamma Ray  \n",
    "GTEM |.DEGF | Generalized Borehole Temperature \n",
    "ITT  |.S | Integrated Transit Time \n",
    "RWA  |.OHMM | Apparent Water Resistivity \n",
    "SPHI |.CFCF | Sonic Porosity \n",
    "STIT |.F | Stuck Tool Indicator, Total \n",
    "TENS |LBF | Cable Tension \n",
    "\n",
    "If you are interested in more detail, check out the original dataset or some of the references at the end of this notebook."
   ]
  },
  {
   "cell_type": "markdown",
   "metadata": {},
   "source": [
    "### 1. Checking the data and reduce size\n",
    "\n",
    "Let's start by checking our data. Take a look at the datframe. Is it complete? Do we need to clean it? For the puropose of this exercise we will reduce the size of the dataset a little bit and concentrate on some specific logs.\n",
    "\n",
    "<div class=\"alert alert-info\">\n",
    "    \n",
    "**Your task:**\n",
    "\n",
    "Create a smaller dataframe containing only the columns `'DEPT', 'DT', 'GR_EDTC', 'GTEM', 'RWA'` and only the first 2000 entries. Hint for second part: Take a look ehat `keyword argument` the `df.head()` function takes.\n",
    "\n",
    "</div>\n",
    "\n"
   ]
  },
  {
   "cell_type": "code",
   "execution_count": null,
   "metadata": {},
   "outputs": [],
   "source": [
    "# YOUR CODE HERE\n",
    "# Take a look at the dataframe\n"
   ]
  },
  {
   "cell_type": "code",
   "execution_count": null,
   "metadata": {},
   "outputs": [],
   "source": [
    "# YOUR CODE HERE\n",
    "# create a subset (smaller dataframe)\n"
   ]
  },
  {
   "cell_type": "markdown",
   "metadata": {},
   "source": [
    "Let's also visualize the log plots.\n",
    "\n",
    "\n",
    "<div class=\"alert alert-info\">\n",
    "\n",
    "**Your task:**\n",
    "\n",
    "Plot the different well log signals against depth. Some notes: Like in a proper well log plot the depth axis should be inverted: shallow (top) to deep (bottom) - check out `invert_yaxis()`. Try to plot all foru plots in a single figure."
   ]
  },
  {
   "cell_type": "code",
   "execution_count": null,
   "metadata": {},
   "outputs": [],
   "source": [
    "# YOUR CODE HERE\n"
   ]
  },
  {
   "cell_type": "markdown",
   "metadata": {},
   "source": [
    "### 2. Covariance and correlation intuition\n",
    "\n",
    "Today we focus on the relationship between different properties. You discussed the correlation coefficient (or $r$ value) in the lecture. It takes values between -1 and 1. \n",
    "\n",
    "<div class=\"alert alert-info\">\n",
    "    \n",
    "**Your task:**\n",
    "\n",
    "Just from looking at the well log plot you created, make an educated guess for the correlation coefficients for the following parameter pairs:\n",
    "\n",
    "</div>\n",
    "\n",
    "Note: We will ignore the temperature in the following analysis."
   ]
  },
  {
   "cell_type": "code",
   "execution_count": null,
   "metadata": {},
   "outputs": [],
   "source": [
    "# YOUR GUESS HERE\n",
    "corr_DT_GREDTC_guess = \n",
    "corr_DT_RWA_guess =\n",
    "corr_RWA_GREDTC = "
   ]
  },
  {
   "cell_type": "markdown",
   "metadata": {},
   "source": [
    "To get a better feeling for this relation it is a godd idea to plot the properties against each other. \n",
    "\n",
    "<div class=\"alert alert-info\">\n",
    "    \n",
    "**Your task:**\n",
    "\n",
    "Plot the three well log signals against each other using scatterplots. Does the plot support your guess from above? Note of caution: We did not normalize the data, but as matplotlib automatically scales the axes we still get a good impression.\n",
    "\n",
    "</div>"
   ]
  },
  {
   "cell_type": "code",
   "execution_count": null,
   "metadata": {},
   "outputs": [],
   "source": [
    "# YOUR CODE HERE\n"
   ]
  },
  {
   "cell_type": "markdown",
   "metadata": {},
   "source": [
    "### 3. Calculate covariances\n",
    "\n",
    "We now have a basic idea of what our three datasets look like and even plotted them against each other to get a visual intuition of their correlation. A measure of this correlation is the covariance. We can calculate it using the following equation:\n",
    "\n",
    "$$Cov_{x,y}=\\frac{\\sum_{i=1}^{n}(x_{i}-\\bar{x})(y_{i}-\\bar{y})}{n}$$\n",
    "\n",
    "Remember from last week the definition of standard deviation, which is the squareroot of the variance of a dataset:\n",
    "\n",
    "$$ \\sigma = \\sqrt{\\frac{1}{n} \\sum_{i=1}^n (x_i - \\overline{x})^2} $$\n",
    "\n",
    "Hopefully you see why this new measure is called covariance!\n",
    "\n",
    "<div class=\"alert alert-info\">  \n",
    "    \n",
    "**Your task:**\n",
    "\n",
    "Write a function that calculates the covariance between two arrays of measured properties. Use this function to calculate the covariances between all three given signals. Hint: Don't just use `numpy.cov`, write the equation properly as practice.\n",
    "\n",
    "</div>"
   ]
  },
  {
   "cell_type": "code",
   "execution_count": null,
   "metadata": {},
   "outputs": [],
   "source": [
    "def calc_cov(x,y):\n",
    "    # YOUR CODE HERE\n",
    "    \n",
    "    return cov\n"
   ]
  },
  {
   "cell_type": "markdown",
   "metadata": {},
   "source": [
    "### 4. Calcualte correlation coefficient\n",
    "\n",
    "\n",
    "Let's now calculate the *correlation coefficient*. It is the scaled version of the covariance and allows to compare the strength of correlation between different properties. It can be derived from the covariance based on the following formula:\n",
    "\n",
    "$$\\rho_{x,y}=\\frac{Cov_{x,y}}{\\sigma_x \\sigma_y}$$\n",
    "\n",
    "<div class=\"alert alert-info\">  \n",
    "    \n",
    "**Your task:**\n",
    "\n",
    "Write a function that calculates the correlation coefficient between two arrays of measured properties. You can use your the calculation for the covariance that you used before as a basis. Determine the correlation coefficients between the three provided properties and compare it to the respective covariances.\n",
    "\n",
    "</div>"
   ]
  },
  {
   "cell_type": "code",
   "execution_count": null,
   "metadata": {},
   "outputs": [],
   "source": [
    "def calc_cor_coeff(x,y):\n",
    "    # YOUR CODE HERE\n",
    "    \n",
    "    return cor_coeff\n"
   ]
  },
  {
   "cell_type": "markdown",
   "metadata": {},
   "source": [
    "<div class=\"alert alert-info\">  \n",
    "    \n",
    "**Your task:**\n",
    "\n",
    "Compare the results to your guess. Discuss the meaning of covariance and correlation coefficient in this setting. What are important observations?\n",
    "Check your results with `pandas`. Use the `df.corr()` method.\n",
    "\n",
    "</div>"
   ]
  },
  {
   "cell_type": "code",
   "execution_count": null,
   "metadata": {},
   "outputs": [],
   "source": [
    "# YOUR CODE HERE"
   ]
  },
  {
   "cell_type": "markdown",
   "metadata": {},
   "source": [
    "### References\n",
    "\n",
    "The dataset can be found here:\n",
    "\n",
    "* https://edx.netl.doe.gov/dataset/secarb-cranfield-well-logs\n",
    "\n",
    "And some information on some fo the signals:\n",
    "\n",
    "* http://www.hitchnerexplorationservices.com/blog/post/1953736\n",
    "* https://www.glossary.oilfield.slb.com/Terms/i/interval_transit_time.aspx\n",
    "* https://petrowiki.org/Gamma_ray_logs\n",
    "* https://petrowiki.org/Porosity_evaluation_with_acoustic_logging\n"
   ]
  },
  {
   "cell_type": "code",
   "execution_count": null,
   "metadata": {},
   "outputs": [],
   "source": []
  }
 ],
 "metadata": {
  "kernelspec": {
   "display_name": "Python 3",
   "language": "python",
   "name": "python3"
  },
  "language_info": {
   "codemirror_mode": {
    "name": "ipython",
    "version": 3
   },
   "file_extension": ".py",
   "mimetype": "text/x-python",
   "name": "python",
   "nbconvert_exporter": "python",
   "pygments_lexer": "ipython3",
   "version": "3.7.3"
  },
  "toc": {
   "base_numbering": 1,
   "nav_menu": {},
   "number_sections": true,
   "sideBar": true,
   "skip_h1_title": false,
   "title_cell": "Table of Contents",
   "title_sidebar": "Contents",
   "toc_cell": false,
   "toc_position": {},
   "toc_section_display": true,
   "toc_window_display": false
  },
  "varInspector": {
   "cols": {
    "lenName": 16,
    "lenType": 16,
    "lenVar": 40
   },
   "kernels_config": {
    "python": {
     "delete_cmd_postfix": "",
     "delete_cmd_prefix": "del ",
     "library": "var_list.py",
     "varRefreshCmd": "print(var_dic_list())"
    },
    "r": {
     "delete_cmd_postfix": ") ",
     "delete_cmd_prefix": "rm(",
     "library": "var_list.r",
     "varRefreshCmd": "cat(var_dic_list()) "
    }
   },
   "types_to_exclude": [
    "module",
    "function",
    "builtin_function_or_method",
    "instance",
    "_Feature"
   ],
   "window_display": false
  }
 },
 "nbformat": 4,
 "nbformat_minor": 2
}
